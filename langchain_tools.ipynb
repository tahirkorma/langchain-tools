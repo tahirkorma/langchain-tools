{
  "nbformat": 4,
  "nbformat_minor": 0,
  "metadata": {
    "colab": {
      "provenance": []
    },
    "kernelspec": {
      "name": "python3",
      "display_name": "Python 3"
    },
    "language_info": {
      "name": "python"
    }
  },
  "cells": [
    {
      "cell_type": "code",
      "execution_count": 1,
      "metadata": {
        "id": "hl5kK59OqmfR",
        "colab": {
          "base_uri": "https://localhost:8080/"
        },
        "outputId": "b2608ad7-4192-4fbd-a689-60def79fdaf8"
      },
      "outputs": [
        {
          "output_type": "stream",
          "name": "stdout",
          "text": [
            "\u001b[?25l   \u001b[90m━━━━━━━━━━━━━━━━━━━━━━━━━━━━━━━━━━━━━━━━\u001b[0m \u001b[32m0.0/2.5 MB\u001b[0m \u001b[31m?\u001b[0m eta \u001b[36m-:--:--\u001b[0m\r\u001b[2K   \u001b[91m━━━━━━━━━━━━━━━━━━━━━━━━\u001b[0m\u001b[90m╺\u001b[0m\u001b[90m━━━━━━━━━━━━━━━\u001b[0m \u001b[32m1.5/2.5 MB\u001b[0m \u001b[31m46.6 MB/s\u001b[0m eta \u001b[36m0:00:01\u001b[0m\r\u001b[2K   \u001b[90m━━━━━━━━━━━━━━━━━━━━━━━━━━━━━━━━━━━━━━━━\u001b[0m \u001b[32m2.5/2.5 MB\u001b[0m \u001b[31m39.4 MB/s\u001b[0m eta \u001b[36m0:00:00\u001b[0m\n",
            "\u001b[2K   \u001b[90m━━━━━━━━━━━━━━━━━━━━━━━━━━━━━━━━━━━━━━━━\u001b[0m \u001b[32m209.2/209.2 kB\u001b[0m \u001b[31m13.6 MB/s\u001b[0m eta \u001b[36m0:00:00\u001b[0m\n",
            "\u001b[2K   \u001b[90m━━━━━━━━━━━━━━━━━━━━━━━━━━━━━━━━━━━━━━━━\u001b[0m \u001b[32m64.7/64.7 kB\u001b[0m \u001b[31m4.3 MB/s\u001b[0m eta \u001b[36m0:00:00\u001b[0m\n",
            "\u001b[2K   \u001b[90m━━━━━━━━━━━━━━━━━━━━━━━━━━━━━━━━━━━━━━━━\u001b[0m \u001b[32m50.9/50.9 kB\u001b[0m \u001b[31m3.3 MB/s\u001b[0m eta \u001b[36m0:00:00\u001b[0m\n",
            "\u001b[?25h\u001b[31mERROR: pip's dependency resolver does not currently take into account all the packages that are installed. This behaviour is the source of the following dependency conflicts.\n",
            "google-colab 1.0.0 requires requests==2.32.4, but you have requests 2.32.5 which is incompatible.\u001b[0m\u001b[31m\n",
            "\u001b[0m"
          ]
        }
      ],
      "source": [
        "# Install packages\n",
        "!pip install langchain langchain-core langchain-community pydantic langchain-experimental -q #duckduckgo_search (not installed as issuing lot of warnings )"
      ]
    },
    {
      "cell_type": "markdown",
      "source": [
        "**Built-in Tool - DuckDuckGo Search**"
      ],
      "metadata": {
        "id": "_tpZIuM-rKCk"
      }
    },
    {
      "cell_type": "code",
      "source": [
        "\"\"\"\n",
        "from langchain_community.tools import DuckDuckGoSearchRun\n",
        "\n",
        "search_tool = DuckDuckGoSearchRun()\n",
        "\n",
        "search_tool.invoke(\"latest news in india?\")\"\"\""
      ],
      "metadata": {
        "colab": {
          "base_uri": "https://localhost:8080/",
          "height": 35
        },
        "id": "8dFAgFQ2s8_U",
        "outputId": "cb96a4f5-e1ce-4798-d471-e9110e795196"
      },
      "execution_count": 2,
      "outputs": [
        {
          "output_type": "execute_result",
          "data": {
            "text/plain": [
              "'\\nfrom langchain_community.tools import DuckDuckGoSearchRun\\n\\nsearch_tool = DuckDuckGoSearchRun()\\n\\nsearch_tool.invoke(\"latest news in india?\")'"
            ],
            "application/vnd.google.colaboratory.intrinsic+json": {
              "type": "string"
            }
          },
          "metadata": {},
          "execution_count": 2
        }
      ]
    },
    {
      "cell_type": "code",
      "source": [
        "\"\"\"\n",
        "print(search_tool.name)\n",
        "print(search_tool.description)\n",
        "print(search_tool.args)\"\"\""
      ],
      "metadata": {
        "colab": {
          "base_uri": "https://localhost:8080/",
          "height": 35
        },
        "id": "xczeW8yeu2Xs",
        "outputId": "3e944370-4093-496a-e50b-0a3b997851cb"
      },
      "execution_count": 3,
      "outputs": [
        {
          "output_type": "execute_result",
          "data": {
            "text/plain": [
              "'\\nprint(search_tool.name)\\nprint(search_tool.description)\\nprint(search_tool.args)'"
            ],
            "application/vnd.google.colaboratory.intrinsic+json": {
              "type": "string"
            }
          },
          "metadata": {},
          "execution_count": 3
        }
      ]
    },
    {
      "cell_type": "markdown",
      "source": [
        "**Built-in Tool - Shell Tool**"
      ],
      "metadata": {
        "id": "dVnoPQboyLCk"
      }
    },
    {
      "cell_type": "code",
      "source": [
        "from langchain_community.tools import ShellTool\n",
        "\n",
        "shell_tool = ShellTool()\n",
        "\n",
        "results = shell_tool.invoke('ls')\n",
        "\n",
        "print(results)"
      ],
      "metadata": {
        "colab": {
          "base_uri": "https://localhost:8080/"
        },
        "id": "vUITP59DyKjH",
        "outputId": "619992f8-2846-4981-e321-5ee1b2ccc1d4"
      },
      "execution_count": 4,
      "outputs": [
        {
          "output_type": "stream",
          "name": "stdout",
          "text": [
            "Executing command:\n",
            " ls\n",
            "sample_data\n",
            "\n"
          ]
        },
        {
          "output_type": "stream",
          "name": "stderr",
          "text": [
            "/usr/local/lib/python3.12/dist-packages/langchain_community/tools/shell/tool.py:33: UserWarning: The shell tool has no safeguards by default. Use at your own risk.\n",
            "  warnings.warn(\n"
          ]
        }
      ]
    },
    {
      "cell_type": "markdown",
      "source": [
        "**Custom Tools**"
      ],
      "metadata": {
        "id": "-z89gTYizPpG"
      }
    },
    {
      "cell_type": "code",
      "source": [
        "from langchain_community.tools import tool"
      ],
      "metadata": {
        "id": "wmCetBzFzMVY"
      },
      "execution_count": 5,
      "outputs": []
    },
    {
      "cell_type": "code",
      "source": [
        "# Step 1: Create function\n",
        "\n",
        "def multiply(a,b):\n",
        "  \"\"\"Mutiply two numbers\"\"\"\n",
        "  return a*b"
      ],
      "metadata": {
        "id": "ugq4Ui_6zWX8"
      },
      "execution_count": 6,
      "outputs": []
    },
    {
      "cell_type": "code",
      "source": [
        "# Step 2: Add type hints\n",
        "def multiply (a:int, b:int) -> int:\n",
        "  \"\"\"Mutiply two numbers\"\"\"\n",
        "  return a*b"
      ],
      "metadata": {
        "id": "5D0Ycx6C0MTp"
      },
      "execution_count": 7,
      "outputs": []
    },
    {
      "cell_type": "code",
      "source": [
        "# Step 3: Add tool decorator\n",
        "@tool\n",
        "def multiply(a:int, b:int) -> int:\n",
        "  \"\"\"Mutiply two numbers\"\"\"\n",
        "  return a*b"
      ],
      "metadata": {
        "id": "dnSOP0qy-_ss"
      },
      "execution_count": 8,
      "outputs": []
    },
    {
      "cell_type": "code",
      "source": [
        "results = multiply.invoke({\"a\":50, \"b\":50})\n",
        "print(results)"
      ],
      "metadata": {
        "colab": {
          "base_uri": "https://localhost:8080/"
        },
        "id": "Ezfr7yGa_I5P",
        "outputId": "ec24aa46-1abe-4b65-e548-a74dadaa817d"
      },
      "execution_count": 9,
      "outputs": [
        {
          "output_type": "stream",
          "name": "stdout",
          "text": [
            "2500\n"
          ]
        }
      ]
    },
    {
      "cell_type": "code",
      "source": [
        "print(multiply.name)\n",
        "print(multiply.description)\n",
        "print(multiply.args)"
      ],
      "metadata": {
        "colab": {
          "base_uri": "https://localhost:8080/"
        },
        "id": "jXub-zH-_Wi3",
        "outputId": "b94a8ed7-495f-4857-f66d-fefba96de4e5"
      },
      "execution_count": 10,
      "outputs": [
        {
          "output_type": "stream",
          "name": "stdout",
          "text": [
            "multiply\n",
            "Mutiply two numbers\n",
            "{'a': {'title': 'A', 'type': 'integer'}, 'b': {'title': 'B', 'type': 'integer'}}\n"
          ]
        }
      ]
    },
    {
      "cell_type": "code",
      "source": [
        "print(multiply.args_schema.model_json_schema())"
      ],
      "metadata": {
        "colab": {
          "base_uri": "https://localhost:8080/"
        },
        "id": "mS3bQ4cN_vvx",
        "outputId": "076d5370-a1d0-4269-d1f1-9c37ede8eba7"
      },
      "execution_count": 11,
      "outputs": [
        {
          "output_type": "stream",
          "name": "stdout",
          "text": [
            "{'description': 'Mutiply two numbers', 'properties': {'a': {'title': 'A', 'type': 'integer'}, 'b': {'title': 'B', 'type': 'integer'}}, 'required': ['a', 'b'], 'title': 'multiply', 'type': 'object'}\n"
          ]
        }
      ]
    },
    {
      "cell_type": "markdown",
      "source": [
        "**Method 2 - Using StructuredTool**"
      ],
      "metadata": {
        "id": "5FNhbvUqLlZR"
      }
    },
    {
      "cell_type": "code",
      "source": [
        "from langchain.tools import StructuredTool\n",
        "from pydantic import BaseModel, Field"
      ],
      "metadata": {
        "id": "Mkddb1QELnL2"
      },
      "execution_count": 12,
      "outputs": []
    },
    {
      "cell_type": "code",
      "source": [
        " class MultiplyInput(BaseModel):\n",
        "  a: int = Field(required = True, description = \"The first number to add\")\n",
        "  b: int = Field(required = True, description = \"The second number to add\")"
      ],
      "metadata": {
        "id": "_0ZZPVqoLtIk"
      },
      "execution_count": 13,
      "outputs": []
    },
    {
      "cell_type": "code",
      "source": [
        "def multiply_func(a:int, b:int)-> int:\n",
        "  return a*b"
      ],
      "metadata": {
        "id": "EdrOAeQhMKqR"
      },
      "execution_count": 14,
      "outputs": []
    },
    {
      "cell_type": "code",
      "source": [
        "multiply_tool = StructuredTool.from_function(\n",
        "    func = multiply_func,\n",
        "    name = \"multiply\",\n",
        "    description = \"Multiply two numbers\",\n",
        "    args_schema = MultiplyInput\n",
        ")"
      ],
      "metadata": {
        "id": "u-m-WEIQMUB_"
      },
      "execution_count": 15,
      "outputs": []
    },
    {
      "cell_type": "code",
      "source": [
        "result =multiply_tool.invoke({'a':450, \"b\":297})"
      ],
      "metadata": {
        "id": "qZM1LUWkM7rq"
      },
      "execution_count": 16,
      "outputs": []
    },
    {
      "cell_type": "code",
      "source": [
        "print(result)\n",
        "print(multiply_tool.name)\n",
        "print(multiply_tool.description)\n",
        "print(multiply_tool.args)"
      ],
      "metadata": {
        "colab": {
          "base_uri": "https://localhost:8080/"
        },
        "id": "TzVJGhJvNwD8",
        "outputId": "c39c47f2-1b62-4f48-c079-918455e8921d"
      },
      "execution_count": 17,
      "outputs": [
        {
          "output_type": "stream",
          "name": "stdout",
          "text": [
            "133650\n",
            "multiply\n",
            "Multiply two numbers\n",
            "{'a': {'description': 'The first number to add', 'required': True, 'title': 'A', 'type': 'integer'}, 'b': {'description': 'The second number to add', 'required': True, 'title': 'B', 'type': 'integer'}}\n"
          ]
        }
      ]
    },
    {
      "cell_type": "markdown",
      "source": [
        "**Method 3 - Using BaseTool Class**"
      ],
      "metadata": {
        "id": "pbpLWgyEPd0M"
      }
    },
    {
      "cell_type": "code",
      "source": [
        "from langchain.tools import BaseTool\n",
        "from typing import Type"
      ],
      "metadata": {
        "id": "59bzBM5cOb9O"
      },
      "execution_count": 18,
      "outputs": []
    },
    {
      "cell_type": "code",
      "source": [
        "# arg schema using pydantic\n",
        "\n",
        "class MultiplyInput(BaseModel):\n",
        "  a: int = Field(required=True, description=\"The first number to add\")\n",
        "  b: int = Field(required=True, description=\"The second number to add\")"
      ],
      "metadata": {
        "id": "DK6KpMogP4yZ"
      },
      "execution_count": 19,
      "outputs": []
    },
    {
      "cell_type": "code",
      "source": [
        "class MultiplyTool(BaseTool):\n",
        "  name: str = \"multiply\"\n",
        "  description: str = \"Multiply two numbers\"\n",
        "  args_schema: Type[BaseModel] = MultiplyInput\n",
        "\n",
        "  def _run(self, a:int, b:int) ->int:\n",
        "    return a * b"
      ],
      "metadata": {
        "id": "bis48o10RBm5"
      },
      "execution_count": 20,
      "outputs": []
    },
    {
      "cell_type": "code",
      "source": [
        "multiply_tool = MultiplyTool()"
      ],
      "metadata": {
        "id": "8sfjYbiyRRdd"
      },
      "execution_count": 21,
      "outputs": []
    },
    {
      "cell_type": "code",
      "source": [
        "result = multiply_tool.invoke({'a':450, \"b\":297})"
      ],
      "metadata": {
        "id": "33v9n_6ZRsqf"
      },
      "execution_count": 22,
      "outputs": []
    },
    {
      "cell_type": "code",
      "source": [
        "print(result)\n",
        "print(multiply_tool.name)\n",
        "print(multiply_tool.description)\n",
        "\n",
        "print(multiply_tool.args)"
      ],
      "metadata": {
        "colab": {
          "base_uri": "https://localhost:8080/"
        },
        "id": "Zhuggg0CRxlr",
        "outputId": "f355e9b9-64e6-497a-c8bc-846afaea2c55"
      },
      "execution_count": 23,
      "outputs": [
        {
          "output_type": "stream",
          "name": "stdout",
          "text": [
            "133650\n",
            "multiply\n",
            "Multiply two numbers\n",
            "{'a': {'description': 'The first number to add', 'required': True, 'title': 'A', 'type': 'integer'}, 'b': {'description': 'The second number to add', 'required': True, 'title': 'B', 'type': 'integer'}}\n"
          ]
        }
      ]
    },
    {
      "cell_type": "markdown",
      "source": [
        "**Toolkit**"
      ],
      "metadata": {
        "id": "ttn36x8nT0aA"
      }
    },
    {
      "cell_type": "code",
      "source": [
        "from langchain_core.tools import tool\n",
        "\n",
        "#Custom tools\n",
        "\n",
        "@tool\n",
        "def add (a:int, b:int) -> int:\n",
        "  \"\"\"Add two numbers\"\"\"\n",
        "  return a + b\n",
        "\n",
        "@tool\n",
        "def multiply (a:int, b:int) -> int:\n",
        "  \"\"\"Multiply two numbers\"\"\"\n",
        "  return a * b\n"
      ],
      "metadata": {
        "id": "U910Jo4RR0fZ"
      },
      "execution_count": 24,
      "outputs": []
    },
    {
      "cell_type": "code",
      "source": [
        "class MathToolKit:\n",
        "  def get_tools(self):\n",
        "    return[add, multiply]"
      ],
      "metadata": {
        "id": "_0HT5XBQUp3D"
      },
      "execution_count": 25,
      "outputs": []
    },
    {
      "cell_type": "code",
      "source": [
        "toolkit = MathToolKit()\n",
        "tools = toolkit.get_tools()\n",
        "\n",
        "for tool in tools:\n",
        "  print(tool.name,\"=>\", tool.description)"
      ],
      "metadata": {
        "colab": {
          "base_uri": "https://localhost:8080/"
        },
        "id": "yYHtWg2tU8Ef",
        "outputId": "1f27468c-fb5a-4342-d42c-1e69bd196ee9"
      },
      "execution_count": 26,
      "outputs": [
        {
          "output_type": "stream",
          "name": "stdout",
          "text": [
            "add => Add two numbers\n",
            "multiply => Multiply two numbers\n"
          ]
        }
      ]
    }
  ]
}
{
  "nbformat": 4,
  "nbformat_minor": 0,
  "metadata": {
    "colab": {
      "provenance": []
    },
    "kernelspec": {
      "name": "python3",
      "display_name": "Python 3"
    },
    "language_info": {
      "name": "python"
    }
  },
  "cells": [
    {
      "cell_type": "code",
      "execution_count": 3,
      "metadata": {
        "id": "hl5kK59OqmfR",
        "colab": {
          "base_uri": "https://localhost:8080/"
        },
        "outputId": "20253125-dca6-4231-ad1a-97a092ed5927"
      },
      "outputs": [
        {
          "output_type": "stream",
          "name": "stdout",
          "text": [
            "\u001b[2K   \u001b[90m━━━━━━━━━━━━━━━━━━━━━━━━━━━━━━━━━━━━━━━━\u001b[0m \u001b[32m5.3/5.3 MB\u001b[0m \u001b[31m50.5 MB/s\u001b[0m eta \u001b[36m0:00:00\u001b[0m\n",
            "\u001b[?25h"
          ]
        }
      ],
      "source": [
        "# Install packages\n",
        "!pip -q install langchain langchain-core langchain-community pydantic langchain-experimental duckduckgo_search -U ddgs"
      ]
    },
    {
      "cell_type": "markdown",
      "source": [
        "**Built-in Tool - DuckDuckGo Search**"
      ],
      "metadata": {
        "id": "_tpZIuM-rKCk"
      }
    },
    {
      "cell_type": "code",
      "source": [
        "from langchain_community.tools import DuckDuckGoSearchRun\n",
        "\n",
        "search_tool = DuckDuckGoSearchRun()\n",
        "\n",
        "search_tool.invoke(\"latest news in India?\")"
      ],
      "metadata": {
        "colab": {
          "base_uri": "https://localhost:8080/",
          "height": 122
        },
        "id": "8dFAgFQ2s8_U",
        "outputId": "600189cc-0101-4bac-c202-d60f09c23e2a"
      },
      "execution_count": 7,
      "outputs": [
        {
          "output_type": "execute_result",
          "data": {
            "text/plain": [
              "'Mar 29, 2025 — Breaking News in India : Read Latest News on Sports, Business, Entertainment, Blogs and Opinions from leading columnists. Times of India brings the Breaking ... 2 hours ago — Greater Noida Dowry Death: 4 Family Members, Including Husband Vipin ... · Six Killed, 86 Injured As Israeli Missiles Rain Down On Sanaa · India Warns Pakistan of ... 12 hours ago — Watch: Raging rivers cause destruction in parts of northern India . At least 30 people have died since Tuesday, as flash floods swept away roads and submerged ... Jul 4, 2025 — Latest news · Trump threatens India with 50% tariff as negotiations fizzle and Modi keeps importing Russian oil · Wall of water slams Himalayan village, leaving ... 13 hours ago — India News Live Updates | 5 stories you must read today, August 28: From Russian drone strike in Ukraine to Onam row in Kerala school and more. Read about the ...'"
            ],
            "application/vnd.google.colaboratory.intrinsic+json": {
              "type": "string"
            }
          },
          "metadata": {},
          "execution_count": 7
        }
      ]
    },
    {
      "cell_type": "code",
      "source": [
        "print(search_tool.name)\n",
        "print(search_tool.description)\n",
        "print(search_tool.args)"
      ],
      "metadata": {
        "colab": {
          "base_uri": "https://localhost:8080/"
        },
        "id": "xczeW8yeu2Xs",
        "outputId": "6d7395bc-7d6f-4fbc-b32f-8197adc70e0c"
      },
      "execution_count": 8,
      "outputs": [
        {
          "output_type": "stream",
          "name": "stdout",
          "text": [
            "duckduckgo_search\n",
            "A wrapper around DuckDuckGo Search. Useful for when you need to answer questions about current events. Input should be a search query.\n",
            "{'query': {'description': 'search query to look up', 'title': 'Query', 'type': 'string'}}\n"
          ]
        }
      ]
    },
    {
      "cell_type": "markdown",
      "source": [
        "**Built-in Tool - Shell Tool**"
      ],
      "metadata": {
        "id": "dVnoPQboyLCk"
      }
    },
    {
      "cell_type": "code",
      "source": [
        "from langchain_community.tools import ShellTool\n",
        "\n",
        "shell_tool = ShellTool()\n",
        "\n",
        "results = shell_tool.invoke('ls')\n",
        "\n",
        "print(results)"
      ],
      "metadata": {
        "colab": {
          "base_uri": "https://localhost:8080/"
        },
        "id": "vUITP59DyKjH",
        "outputId": "0c3428dd-5272-4025-ff35-f67ef44a5c0c"
      },
      "execution_count": 9,
      "outputs": [
        {
          "output_type": "stream",
          "name": "stdout",
          "text": [
            "Executing command:\n",
            " ls\n",
            "sample_data\n",
            "\n"
          ]
        },
        {
          "output_type": "stream",
          "name": "stderr",
          "text": [
            "/usr/local/lib/python3.12/dist-packages/langchain_community/tools/shell/tool.py:33: UserWarning: The shell tool has no safeguards by default. Use at your own risk.\n",
            "  warnings.warn(\n"
          ]
        }
      ]
    },
    {
      "cell_type": "markdown",
      "source": [
        "**Custom Tools**"
      ],
      "metadata": {
        "id": "-z89gTYizPpG"
      }
    },
    {
      "cell_type": "code",
      "source": [
        "from langchain_community.tools import tool"
      ],
      "metadata": {
        "id": "wmCetBzFzMVY"
      },
      "execution_count": 10,
      "outputs": []
    },
    {
      "cell_type": "code",
      "source": [
        "# Step 1: Create function\n",
        "\n",
        "def multiply(a,b):\n",
        "  \"\"\"Mutiply two numbers\"\"\"\n",
        "  return a*b"
      ],
      "metadata": {
        "id": "ugq4Ui_6zWX8"
      },
      "execution_count": 11,
      "outputs": []
    },
    {
      "cell_type": "code",
      "source": [
        "# Step 2: Add type hints\n",
        "def multiply (a:int, b:int) -> int:\n",
        "  \"\"\"Mutiply two numbers\"\"\"\n",
        "  return a*b"
      ],
      "metadata": {
        "id": "5D0Ycx6C0MTp"
      },
      "execution_count": 12,
      "outputs": []
    },
    {
      "cell_type": "code",
      "source": [
        "# Step 3: Add tool decorator\n",
        "@tool\n",
        "def multiply(a:int, b:int) -> int:\n",
        "  \"\"\"Mutiply two numbers\"\"\"\n",
        "  return a*b"
      ],
      "metadata": {
        "id": "dnSOP0qy-_ss"
      },
      "execution_count": 13,
      "outputs": []
    },
    {
      "cell_type": "code",
      "source": [
        "results = multiply.invoke({\"a\":50, \"b\":50})\n",
        "print(results)"
      ],
      "metadata": {
        "colab": {
          "base_uri": "https://localhost:8080/"
        },
        "id": "Ezfr7yGa_I5P",
        "outputId": "868eaf40-5e1e-4dfb-9f0a-d29558ff34a8"
      },
      "execution_count": 14,
      "outputs": [
        {
          "output_type": "stream",
          "name": "stdout",
          "text": [
            "2500\n"
          ]
        }
      ]
    },
    {
      "cell_type": "code",
      "source": [
        "print(multiply.name)\n",
        "print(multiply.description)\n",
        "print(multiply.args)"
      ],
      "metadata": {
        "colab": {
          "base_uri": "https://localhost:8080/"
        },
        "id": "jXub-zH-_Wi3",
        "outputId": "bd7e6333-5cea-405c-e7cc-42e117b409d5"
      },
      "execution_count": 15,
      "outputs": [
        {
          "output_type": "stream",
          "name": "stdout",
          "text": [
            "multiply\n",
            "Mutiply two numbers\n",
            "{'a': {'title': 'A', 'type': 'integer'}, 'b': {'title': 'B', 'type': 'integer'}}\n"
          ]
        }
      ]
    },
    {
      "cell_type": "code",
      "source": [
        "print(multiply.args_schema.model_json_schema())"
      ],
      "metadata": {
        "colab": {
          "base_uri": "https://localhost:8080/"
        },
        "id": "mS3bQ4cN_vvx",
        "outputId": "442961be-8910-43f4-9088-b909afe78ecc"
      },
      "execution_count": 16,
      "outputs": [
        {
          "output_type": "stream",
          "name": "stdout",
          "text": [
            "{'description': 'Mutiply two numbers', 'properties': {'a': {'title': 'A', 'type': 'integer'}, 'b': {'title': 'B', 'type': 'integer'}}, 'required': ['a', 'b'], 'title': 'multiply', 'type': 'object'}\n"
          ]
        }
      ]
    },
    {
      "cell_type": "markdown",
      "source": [
        "**Method 2 - Using StructuredTool**"
      ],
      "metadata": {
        "id": "5FNhbvUqLlZR"
      }
    },
    {
      "cell_type": "code",
      "source": [
        "from langchain.tools import StructuredTool\n",
        "from pydantic import BaseModel, Field"
      ],
      "metadata": {
        "id": "Mkddb1QELnL2"
      },
      "execution_count": 17,
      "outputs": []
    },
    {
      "cell_type": "code",
      "source": [
        " class MultiplyInput(BaseModel):\n",
        "  a: int = Field(required = True, description = \"The first number to add\")\n",
        "  b: int = Field(required = True, description = \"The second number to add\")"
      ],
      "metadata": {
        "id": "_0ZZPVqoLtIk"
      },
      "execution_count": 18,
      "outputs": []
    },
    {
      "cell_type": "code",
      "source": [
        "def multiply_func(a:int, b:int)-> int:\n",
        "  return a*b"
      ],
      "metadata": {
        "id": "EdrOAeQhMKqR"
      },
      "execution_count": 19,
      "outputs": []
    },
    {
      "cell_type": "code",
      "source": [
        "multiply_tool = StructuredTool.from_function(\n",
        "    func = multiply_func,\n",
        "    name = \"multiply\",\n",
        "    description = \"Multiply two numbers\",\n",
        "    args_schema = MultiplyInput\n",
        ")"
      ],
      "metadata": {
        "id": "u-m-WEIQMUB_"
      },
      "execution_count": 20,
      "outputs": []
    },
    {
      "cell_type": "code",
      "source": [
        "result =multiply_tool.invoke({'a':450, \"b\":297})"
      ],
      "metadata": {
        "id": "qZM1LUWkM7rq"
      },
      "execution_count": 21,
      "outputs": []
    },
    {
      "cell_type": "code",
      "source": [
        "print(result)\n",
        "print(multiply_tool.name)\n",
        "print(multiply_tool.description)\n",
        "print(multiply_tool.args)"
      ],
      "metadata": {
        "colab": {
          "base_uri": "https://localhost:8080/"
        },
        "id": "TzVJGhJvNwD8",
        "outputId": "198f9ef2-d69c-46dc-8a23-c93dd4d43dd4"
      },
      "execution_count": 22,
      "outputs": [
        {
          "output_type": "stream",
          "name": "stdout",
          "text": [
            "133650\n",
            "multiply\n",
            "Multiply two numbers\n",
            "{'a': {'description': 'The first number to add', 'required': True, 'title': 'A', 'type': 'integer'}, 'b': {'description': 'The second number to add', 'required': True, 'title': 'B', 'type': 'integer'}}\n"
          ]
        }
      ]
    },
    {
      "cell_type": "markdown",
      "source": [
        "**Method 3 - Using BaseTool Class**"
      ],
      "metadata": {
        "id": "pbpLWgyEPd0M"
      }
    },
    {
      "cell_type": "code",
      "source": [
        "from langchain.tools import BaseTool\n",
        "from typing import Type"
      ],
      "metadata": {
        "id": "59bzBM5cOb9O"
      },
      "execution_count": 23,
      "outputs": []
    },
    {
      "cell_type": "code",
      "source": [
        "# arg schema using pydantic\n",
        "\n",
        "class MultiplyInput(BaseModel):\n",
        "  a: int = Field(required=True, description=\"The first number to add\")\n",
        "  b: int = Field(required=True, description=\"The second number to add\")"
      ],
      "metadata": {
        "id": "DK6KpMogP4yZ"
      },
      "execution_count": 24,
      "outputs": []
    },
    {
      "cell_type": "code",
      "source": [
        "class MultiplyTool(BaseTool):\n",
        "  name: str = \"multiply\"\n",
        "  description: str = \"Multiply two numbers\"\n",
        "  args_schema: Type[BaseModel] = MultiplyInput\n",
        "\n",
        "  def _run(self, a:int, b:int) ->int:\n",
        "    return a * b"
      ],
      "metadata": {
        "id": "bis48o10RBm5"
      },
      "execution_count": 25,
      "outputs": []
    },
    {
      "cell_type": "code",
      "source": [
        "multiply_tool = MultiplyTool()"
      ],
      "metadata": {
        "id": "8sfjYbiyRRdd"
      },
      "execution_count": 26,
      "outputs": []
    },
    {
      "cell_type": "code",
      "source": [
        "result = multiply_tool.invoke({'a':450, \"b\":297})"
      ],
      "metadata": {
        "id": "33v9n_6ZRsqf"
      },
      "execution_count": 27,
      "outputs": []
    },
    {
      "cell_type": "code",
      "source": [
        "print(result)\n",
        "print(multiply_tool.name)\n",
        "print(multiply_tool.description)\n",
        "\n",
        "print(multiply_tool.args)"
      ],
      "metadata": {
        "colab": {
          "base_uri": "https://localhost:8080/"
        },
        "id": "Zhuggg0CRxlr",
        "outputId": "c2edf895-23ae-4fed-e91d-fb0a138d4846"
      },
      "execution_count": 28,
      "outputs": [
        {
          "output_type": "stream",
          "name": "stdout",
          "text": [
            "133650\n",
            "multiply\n",
            "Multiply two numbers\n",
            "{'a': {'description': 'The first number to add', 'required': True, 'title': 'A', 'type': 'integer'}, 'b': {'description': 'The second number to add', 'required': True, 'title': 'B', 'type': 'integer'}}\n"
          ]
        }
      ]
    },
    {
      "cell_type": "markdown",
      "source": [
        "**Toolkit**"
      ],
      "metadata": {
        "id": "ttn36x8nT0aA"
      }
    },
    {
      "cell_type": "code",
      "source": [
        "from langchain_core.tools import tool\n",
        "\n",
        "#Custom tools\n",
        "\n",
        "@tool\n",
        "def add (a:int, b:int) -> int:\n",
        "  \"\"\"Add two numbers\"\"\"\n",
        "  return a + b\n",
        "\n",
        "@tool\n",
        "def multiply (a:int, b:int) -> int:\n",
        "  \"\"\"Multiply two numbers\"\"\"\n",
        "  return a * b\n"
      ],
      "metadata": {
        "id": "U910Jo4RR0fZ"
      },
      "execution_count": 29,
      "outputs": []
    },
    {
      "cell_type": "code",
      "source": [
        "class MathToolKit:\n",
        "  def get_tools(self):\n",
        "    return[add, multiply]"
      ],
      "metadata": {
        "id": "_0HT5XBQUp3D"
      },
      "execution_count": 30,
      "outputs": []
    },
    {
      "cell_type": "code",
      "source": [
        "toolkit = MathToolKit()\n",
        "tools = toolkit.get_tools()\n",
        "\n",
        "for tool in tools:\n",
        "  print(tool.name,\"=>\", tool.description)"
      ],
      "metadata": {
        "colab": {
          "base_uri": "https://localhost:8080/"
        },
        "id": "yYHtWg2tU8Ef",
        "outputId": "f868dde3-46d0-42d7-f29c-a3b167c7a962"
      },
      "execution_count": 31,
      "outputs": [
        {
          "output_type": "stream",
          "name": "stdout",
          "text": [
            "add => Add two numbers\n",
            "multiply => Multiply two numbers\n"
          ]
        }
      ]
    }
  ]
}
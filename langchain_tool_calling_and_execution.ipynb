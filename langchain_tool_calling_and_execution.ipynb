{
  "nbformat": 4,
  "nbformat_minor": 0,
  "metadata": {
    "colab": {
      "provenance": []
    },
    "kernelspec": {
      "name": "python3",
      "display_name": "Python 3"
    },
    "language_info": {
      "name": "python"
    }
  },
  "cells": [
    {
      "cell_type": "code",
      "execution_count": 1,
      "metadata": {
        "id": "4PMIafklhXmz"
      },
      "outputs": [],
      "source": [
        "# # Import API info\n",
        "from google.colab import userdata\n",
        "api_key = userdata.get('GOOGLE_API_KEY')"
      ]
    },
    {
      "cell_type": "code",
      "source": [
        "# Install dependencies\n",
        "!pip install -q langchain-core requests langchain-google-genai google-generativeai==0.8.5 google-ai-generativelanguage==0.6.15"
      ],
      "metadata": {
        "id": "l2HMUeplisCa"
      },
      "execution_count": 2,
      "outputs": []
    },
    {
      "cell_type": "code",
      "source": [
        "# Import libraries\n",
        "from langchain_google_genai import ChatGoogleGenerativeAI\n",
        "from langchain_core.tools import tool\n",
        "from langchain_core.messages import HumanMessage\n",
        "import requests"
      ],
      "metadata": {
        "id": "XuTpKzrMjFYo"
      },
      "execution_count": 3,
      "outputs": []
    },
    {
      "cell_type": "markdown",
      "source": [
        "**Tool Create**"
      ],
      "metadata": {
        "id": "RSj3eqiJzyuB"
      }
    },
    {
      "cell_type": "code",
      "source": [
        "@tool\n",
        "def multiply(a: int, b: int) -> int:\n",
        "    \"\"\"Given 2 numbers a and b this tool returns their product\"\"\"\n",
        "    return a * b"
      ],
      "metadata": {
        "id": "udRA2dPCyuJp"
      },
      "execution_count": 4,
      "outputs": []
    },
    {
      "cell_type": "code",
      "source": [
        "print(multiply.invoke({'a': 122, 'b': 361}))"
      ],
      "metadata": {
        "colab": {
          "base_uri": "https://localhost:8080/"
        },
        "id": "BaecGQlLy56d",
        "outputId": "086bd45e-9a02-47c1-d7ee-4d27ab5858d9"
      },
      "execution_count": 5,
      "outputs": [
        {
          "output_type": "stream",
          "name": "stdout",
          "text": [
            "44042\n"
          ]
        }
      ]
    },
    {
      "cell_type": "code",
      "source": [
        "print(multiply.name)\n",
        "print(multiply.description)\n",
        "print(multiply.args)"
      ],
      "metadata": {
        "colab": {
          "base_uri": "https://localhost:8080/"
        },
        "id": "qHkRh8vyzMS_",
        "outputId": "0e355468-462a-44d2-8d5b-24b02ffb5b97"
      },
      "execution_count": 6,
      "outputs": [
        {
          "output_type": "stream",
          "name": "stdout",
          "text": [
            "multiply\n",
            "Given 2 numbers a and b this tool returns their product\n",
            "{'a': {'title': 'A', 'type': 'integer'}, 'b': {'title': 'B', 'type': 'integer'}}\n"
          ]
        }
      ]
    },
    {
      "cell_type": "markdown",
      "source": [
        "**Tool Binding**"
      ],
      "metadata": {
        "id": "XzkQ48ekz3_N"
      }
    },
    {
      "cell_type": "code",
      "source": [
        "llm = ChatGoogleGenerativeAI(model = \"gemini-2.0-flash\", google_api_key = api_key)"
      ],
      "metadata": {
        "id": "_LMtK00UzSsE"
      },
      "execution_count": 7,
      "outputs": []
    },
    {
      "cell_type": "code",
      "source": [
        "llm.invoke(\"Hi\")"
      ],
      "metadata": {
        "colab": {
          "base_uri": "https://localhost:8080/"
        },
        "id": "-hE3y1vJrsmz",
        "outputId": "32a80b16-a404-45f2-c4b3-8b515dc211d8"
      },
      "execution_count": 8,
      "outputs": [
        {
          "output_type": "execute_result",
          "data": {
            "text/plain": [
              "AIMessage(content='Hi there! How can I help you today?', additional_kwargs={}, response_metadata={'prompt_feedback': {'block_reason': 0, 'safety_ratings': []}, 'finish_reason': 'STOP', 'safety_ratings': []}, id='run--5ff8ad3d-54e1-4179-a67b-42f2cf4916fe-0', usage_metadata={'input_tokens': 1, 'output_tokens': 11, 'total_tokens': 12, 'input_token_details': {'cache_read': 0}})"
            ]
          },
          "metadata": {},
          "execution_count": 8
        }
      ]
    },
    {
      "cell_type": "code",
      "source": [
        "llm_with_tools = llm.bind_tools([multiply])"
      ],
      "metadata": {
        "id": "SN8zMOJi0ZQd"
      },
      "execution_count": 9,
      "outputs": []
    },
    {
      "cell_type": "markdown",
      "source": [
        "**Tool Calling**"
      ],
      "metadata": {
        "id": "KSigzK9m2d1y"
      }
    },
    {
      "cell_type": "code",
      "source": [
        "llm_with_tools.invoke(\"Hi, how are you?\")"
      ],
      "metadata": {
        "id": "hTCpXQtE1ROH",
        "colab": {
          "base_uri": "https://localhost:8080/"
        },
        "outputId": "268790f0-d22f-4052-eca8-aefef174e474"
      },
      "execution_count": 10,
      "outputs": [
        {
          "output_type": "execute_result",
          "data": {
            "text/plain": [
              "AIMessage(content='I am doing well, thank you for asking. How can I help you today?', additional_kwargs={}, response_metadata={'prompt_feedback': {'block_reason': 0, 'safety_ratings': []}, 'finish_reason': 'STOP', 'safety_ratings': []}, id='run--90e6e5f7-d39b-4a77-bc33-89308aaa63ef-0', usage_metadata={'input_tokens': 26, 'output_tokens': 18, 'total_tokens': 44, 'input_token_details': {'cache_read': 0}})"
            ]
          },
          "metadata": {},
          "execution_count": 10
        }
      ]
    },
    {
      "cell_type": "code",
      "source": [
        "llm_with_tools.invoke(\"can you multiply 100 by 50?\")"
      ],
      "metadata": {
        "id": "iC7ku9fJ1VOi",
        "colab": {
          "base_uri": "https://localhost:8080/"
        },
        "outputId": "504fe56b-4fd0-4a42-c57d-1cef9b509630"
      },
      "execution_count": 11,
      "outputs": [
        {
          "output_type": "execute_result",
          "data": {
            "text/plain": [
              "AIMessage(content='', additional_kwargs={'function_call': {'name': 'multiply', 'arguments': '{\"a\": 100.0, \"b\": 50.0}'}}, response_metadata={'prompt_feedback': {'block_reason': 0, 'safety_ratings': []}, 'finish_reason': 'STOP', 'safety_ratings': []}, id='run--e875d256-e804-4b1d-808d-d0705ff276e0-0', tool_calls=[{'name': 'multiply', 'args': {'a': 100.0, 'b': 50.0}, 'id': '414502a5-edc7-4dcc-92b2-b592de91e002', 'type': 'tool_call'}], usage_metadata={'input_tokens': 32, 'output_tokens': 5, 'total_tokens': 37, 'input_token_details': {'cache_read': 0}})"
            ]
          },
          "metadata": {},
          "execution_count": 11
        }
      ]
    },
    {
      "cell_type": "code",
      "source": [
        "llm_with_tools.invoke(\"can you multiply 100 by 50?\").tool_calls"
      ],
      "metadata": {
        "id": "Gb1fXhtuCS9S",
        "colab": {
          "base_uri": "https://localhost:8080/"
        },
        "outputId": "27a56857-569f-4478-aed9-a4d1a239b786"
      },
      "execution_count": 12,
      "outputs": [
        {
          "output_type": "execute_result",
          "data": {
            "text/plain": [
              "[{'name': 'multiply',\n",
              "  'args': {'a': 100.0, 'b': 50.0},\n",
              "  'id': '6f452efd-373e-40c2-86db-d87198fc3d54',\n",
              "  'type': 'tool_call'}]"
            ]
          },
          "metadata": {},
          "execution_count": 12
        }
      ]
    },
    {
      "cell_type": "code",
      "source": [
        "query = HumanMessage(\"can you multiply 100 by 50?\")\n",
        "messages = [query]"
      ],
      "metadata": {
        "id": "wueesTEn270K"
      },
      "execution_count": 13,
      "outputs": []
    },
    {
      "cell_type": "code",
      "source": [
        "messages"
      ],
      "metadata": {
        "id": "0KQbDpGR346s",
        "colab": {
          "base_uri": "https://localhost:8080/"
        },
        "outputId": "caec43ee-ac18-4479-d8e8-8fd99f34ed1b"
      },
      "execution_count": 14,
      "outputs": [
        {
          "output_type": "execute_result",
          "data": {
            "text/plain": [
              "[HumanMessage(content='can you multiply 100 by 50?', additional_kwargs={}, response_metadata={})]"
            ]
          },
          "metadata": {},
          "execution_count": 14
        }
      ]
    },
    {
      "cell_type": "code",
      "source": [
        "result = llm_with_tools.invoke(messages)"
      ],
      "metadata": {
        "id": "-vDqtupm39v8"
      },
      "execution_count": 15,
      "outputs": []
    },
    {
      "cell_type": "code",
      "source": [
        "result"
      ],
      "metadata": {
        "id": "-FSVpWlC4jyr",
        "colab": {
          "base_uri": "https://localhost:8080/"
        },
        "outputId": "e21c147a-48f0-45f1-84d1-c8d63579a22f"
      },
      "execution_count": 16,
      "outputs": [
        {
          "output_type": "execute_result",
          "data": {
            "text/plain": [
              "AIMessage(content='', additional_kwargs={'function_call': {'name': 'multiply', 'arguments': '{\"a\": 100.0, \"b\": 50.0}'}}, response_metadata={'prompt_feedback': {'block_reason': 0, 'safety_ratings': []}, 'finish_reason': 'STOP', 'safety_ratings': []}, id='run--a73c4102-73aa-40a9-9b46-b5cae3d78d76-0', tool_calls=[{'name': 'multiply', 'args': {'a': 100.0, 'b': 50.0}, 'id': '2c413018-9b47-4d35-a81d-6f8764e0a50d', 'type': 'tool_call'}], usage_metadata={'input_tokens': 32, 'output_tokens': 5, 'total_tokens': 37, 'input_token_details': {'cache_read': 0}})"
            ]
          },
          "metadata": {},
          "execution_count": 16
        }
      ]
    },
    {
      "cell_type": "code",
      "source": [
        "messages.append(result)"
      ],
      "metadata": {
        "id": "O3_VHKJl4SXc"
      },
      "execution_count": 17,
      "outputs": []
    },
    {
      "cell_type": "code",
      "source": [
        "messages"
      ],
      "metadata": {
        "id": "AXuToU-g4GhZ",
        "colab": {
          "base_uri": "https://localhost:8080/"
        },
        "outputId": "c9f46353-c992-46c4-968f-0b2d5ae3c89e"
      },
      "execution_count": 18,
      "outputs": [
        {
          "output_type": "execute_result",
          "data": {
            "text/plain": [
              "[HumanMessage(content='can you multiply 100 by 50?', additional_kwargs={}, response_metadata={}),\n",
              " AIMessage(content='', additional_kwargs={'function_call': {'name': 'multiply', 'arguments': '{\"a\": 100.0, \"b\": 50.0}'}}, response_metadata={'prompt_feedback': {'block_reason': 0, 'safety_ratings': []}, 'finish_reason': 'STOP', 'safety_ratings': []}, id='run--a73c4102-73aa-40a9-9b46-b5cae3d78d76-0', tool_calls=[{'name': 'multiply', 'args': {'a': 100.0, 'b': 50.0}, 'id': '2c413018-9b47-4d35-a81d-6f8764e0a50d', 'type': 'tool_call'}], usage_metadata={'input_tokens': 32, 'output_tokens': 5, 'total_tokens': 37, 'input_token_details': {'cache_read': 0}})]"
            ]
          },
          "metadata": {},
          "execution_count": 18
        }
      ]
    },
    {
      "cell_type": "markdown",
      "source": [
        "**Tool Execution**"
      ],
      "metadata": {
        "id": "52CWQW0hFDmB"
      }
    },
    {
      "cell_type": "code",
      "source": [
        "tool_result = multiply.invoke(result.tool_calls[0])"
      ],
      "metadata": {
        "id": "_fD4rrda4Nxb"
      },
      "execution_count": 19,
      "outputs": []
    },
    {
      "cell_type": "code",
      "source": [
        "tool_result"
      ],
      "metadata": {
        "id": "OLQBCpgS4s3c",
        "colab": {
          "base_uri": "https://localhost:8080/"
        },
        "outputId": "bcfd193a-979f-4d91-8256-8ab61a67102d"
      },
      "execution_count": 20,
      "outputs": [
        {
          "output_type": "execute_result",
          "data": {
            "text/plain": [
              "ToolMessage(content='5000', name='multiply', tool_call_id='2c413018-9b47-4d35-a81d-6f8764e0a50d')"
            ]
          },
          "metadata": {},
          "execution_count": 20
        }
      ]
    },
    {
      "cell_type": "code",
      "source": [
        "messages.append(tool_result)\n",
        "messages"
      ],
      "metadata": {
        "id": "BO4whnAt48NF",
        "colab": {
          "base_uri": "https://localhost:8080/"
        },
        "outputId": "cf95f7c8-e031-454d-e538-591e4b528b57"
      },
      "execution_count": 21,
      "outputs": [
        {
          "output_type": "execute_result",
          "data": {
            "text/plain": [
              "[HumanMessage(content='can you multiply 100 by 50?', additional_kwargs={}, response_metadata={}),\n",
              " AIMessage(content='', additional_kwargs={'function_call': {'name': 'multiply', 'arguments': '{\"a\": 100.0, \"b\": 50.0}'}}, response_metadata={'prompt_feedback': {'block_reason': 0, 'safety_ratings': []}, 'finish_reason': 'STOP', 'safety_ratings': []}, id='run--a73c4102-73aa-40a9-9b46-b5cae3d78d76-0', tool_calls=[{'name': 'multiply', 'args': {'a': 100.0, 'b': 50.0}, 'id': '2c413018-9b47-4d35-a81d-6f8764e0a50d', 'type': 'tool_call'}], usage_metadata={'input_tokens': 32, 'output_tokens': 5, 'total_tokens': 37, 'input_token_details': {'cache_read': 0}}),\n",
              " ToolMessage(content='5000', name='multiply', tool_call_id='2c413018-9b47-4d35-a81d-6f8764e0a50d')]"
            ]
          },
          "metadata": {},
          "execution_count": 21
        }
      ]
    },
    {
      "cell_type": "code",
      "source": [
        "llm_with_tools.invoke(messages).content"
      ],
      "metadata": {
        "id": "exQpzfho5Gma",
        "colab": {
          "base_uri": "https://localhost:8080/",
          "height": 35
        },
        "outputId": "8f2e2f0e-aa19-411c-88de-008099158250"
      },
      "execution_count": 22,
      "outputs": [
        {
          "output_type": "execute_result",
          "data": {
            "text/plain": [
              "'The product of 100 and 50 is 5000.'"
            ],
            "application/vnd.google.colaboratory.intrinsic+json": {
              "type": "string"
            }
          },
          "metadata": {},
          "execution_count": 22
        }
      ]
    },
    {
      "cell_type": "markdown",
      "source": [
        "**Currency Coversion Tool**"
      ],
      "metadata": {
        "id": "FUNqsEonNkpx"
      }
    },
    {
      "cell_type": "code",
      "source": [
        "from langchain_core.tools import InjectedToolArg\n",
        "from typing import Annotated, get_type_hints"
      ],
      "metadata": {
        "id": "KNM3u8UnNolX"
      },
      "execution_count": 23,
      "outputs": []
    },
    {
      "cell_type": "code",
      "source": [
        "# Create Tool\n",
        "\n",
        "@tool\n",
        "def currency_conversion_rate(base_currency: str, target_currency: str) -> float:\n",
        "  \"\"\"\n",
        "  This function fetches the currency conversion rates between a given base currency and a target currency\n",
        "  \"\"\"\n",
        "  url = f'https://v6.exchangerate-api.com/v6/c754eab14ffab33112e380ca/pair/{base_currency}/{target_currency}'\n",
        "\n",
        "  response = requests.get(url)\n",
        "\n",
        "  return response.json()\n",
        "\n",
        "@tool\n",
        "def convert(base_currency_value: float, conversion_rate: Annotated[float, InjectedToolArg]) -> float:\n",
        "    \"\"\"\n",
        "    given a currency conversion rate this function calculates the target currency value from a given base currency value\n",
        "    \"\"\"\n",
        "    return base_currency_value * conversion_rate"
      ],
      "metadata": {
        "id": "PWQdpu1qN270"
      },
      "execution_count": 24,
      "outputs": []
    },
    {
      "cell_type": "code",
      "source": [
        "print(currency_conversion_rate.args)\n",
        "print(convert.args)"
      ],
      "metadata": {
        "id": "WBzefOueQuCl",
        "colab": {
          "base_uri": "https://localhost:8080/"
        },
        "outputId": "732df1b6-86b3-4fed-9ec2-97c6ee1b670a"
      },
      "execution_count": 25,
      "outputs": [
        {
          "output_type": "stream",
          "name": "stdout",
          "text": [
            "{'base_currency': {'title': 'Base Currency', 'type': 'string'}, 'target_currency': {'title': 'Target Currency', 'type': 'string'}}\n",
            "{'base_currency_value': {'title': 'Base Currency Value', 'type': 'number'}, 'conversion_rate': {'title': 'Conversion Rate', 'type': 'number'}}\n"
          ]
        }
      ]
    },
    {
      "cell_type": "code",
      "source": [
        "currency_conversion_rate.invoke({'base_currency': 'USD', 'target_currency': 'INR'})"
      ],
      "metadata": {
        "id": "RGVB1GawOaN2",
        "colab": {
          "base_uri": "https://localhost:8080/"
        },
        "outputId": "435f66bb-e023-40e6-ac3b-d89a1386f237"
      },
      "execution_count": 26,
      "outputs": [
        {
          "output_type": "execute_result",
          "data": {
            "text/plain": [
              "{'result': 'success',\n",
              " 'documentation': 'https://www.exchangerate-api.com/docs',\n",
              " 'terms_of_use': 'https://www.exchangerate-api.com/terms',\n",
              " 'time_last_update_unix': 1756425601,\n",
              " 'time_last_update_utc': 'Fri, 29 Aug 2025 00:00:01 +0000',\n",
              " 'time_next_update_unix': 1756512001,\n",
              " 'time_next_update_utc': 'Sat, 30 Aug 2025 00:00:01 +0000',\n",
              " 'base_code': 'USD',\n",
              " 'target_code': 'INR',\n",
              " 'conversion_rate': 87.6276}"
            ]
          },
          "metadata": {},
          "execution_count": 26
        }
      ]
    },
    {
      "cell_type": "code",
      "source": [
        "convert.invoke({'base_currency_value': 10, 'conversion_rate':87.6276})"
      ],
      "metadata": {
        "id": "vbmIYppcOdtf",
        "colab": {
          "base_uri": "https://localhost:8080/"
        },
        "outputId": "60598298-4de7-4652-82a4-59944b5b452d"
      },
      "execution_count": 27,
      "outputs": [
        {
          "output_type": "execute_result",
          "data": {
            "text/plain": [
              "876.2760000000001"
            ]
          },
          "metadata": {},
          "execution_count": 27
        }
      ]
    },
    {
      "cell_type": "code",
      "source": [
        "# Tool Binding\n",
        "\n",
        "llm = ChatGoogleGenerativeAI(model = 'gemini-2.0-flash', google_api_key = api_key)\n",
        "llm_with_tools = llm.bind_tools([currency_conversion_rate, convert])"
      ],
      "metadata": {
        "id": "26OLq8skVJLR"
      },
      "execution_count": 34,
      "outputs": []
    },
    {
      "cell_type": "code",
      "source": [
        "print(llm_with_tools.kwargs[\"tools\"])"
      ],
      "metadata": {
        "colab": {
          "base_uri": "https://localhost:8080/"
        },
        "id": "uVFP1diJzIB4",
        "outputId": "ac863a5b-4e42-4875-d64a-5fde12625646"
      },
      "execution_count": 51,
      "outputs": [
        {
          "output_type": "stream",
          "name": "stdout",
          "text": [
            "[{'type': 'function', 'function': {'name': 'currency_conversion_rate', 'description': 'This function fetches the currency conversion rates between a given base currency and a target currency', 'parameters': {'properties': {'base_currency': {'type': 'string'}, 'target_currency': {'type': 'string'}}, 'required': ['base_currency', 'target_currency'], 'type': 'object'}}}, {'type': 'function', 'function': {'name': 'convert', 'description': 'given a currency conversion rate this function calculates the target currency value from a given base currency value', 'parameters': {'properties': {'base_currency_value': {'type': 'number'}}, 'required': ['base_currency_value'], 'type': 'object'}}}]\n"
          ]
        }
      ]
    },
    {
      "cell_type": "code",
      "source": [
        "messages = [HumanMessage('What is the conversion rate between USD and INR, and based on that can you convert 10 USD to INR')]"
      ],
      "metadata": {
        "id": "8dh-8NGfVl3L"
      },
      "execution_count": 59,
      "outputs": []
    },
    {
      "cell_type": "code",
      "source": [
        "messages"
      ],
      "metadata": {
        "id": "5KP_oEpkWeFA",
        "colab": {
          "base_uri": "https://localhost:8080/"
        },
        "outputId": "8683023e-2089-4f57-f590-dc4beced6d11"
      },
      "execution_count": 60,
      "outputs": [
        {
          "output_type": "execute_result",
          "data": {
            "text/plain": [
              "[HumanMessage(content='What is the conversion rate between USD and INR, and based on that can you convert 10 USD to INR', additional_kwargs={}, response_metadata={})]"
            ]
          },
          "metadata": {},
          "execution_count": 60
        }
      ]
    },
    {
      "cell_type": "code",
      "source": [
        "ai_message = llm_with_tools.invoke(messages)"
      ],
      "metadata": {
        "id": "RYFeIWr6XN3R"
      },
      "execution_count": 61,
      "outputs": []
    },
    {
      "cell_type": "code",
      "source": [
        "messages.append(ai_message)"
      ],
      "metadata": {
        "id": "mI8Flp8dX2Z9"
      },
      "execution_count": 62,
      "outputs": []
    },
    {
      "cell_type": "code",
      "source": [
        "ai_message"
      ],
      "metadata": {
        "id": "fpfUYehvZyxU",
        "colab": {
          "base_uri": "https://localhost:8080/"
        },
        "outputId": "48ffd1c7-d69f-4235-c6a6-367580eea981"
      },
      "execution_count": 63,
      "outputs": [
        {
          "output_type": "execute_result",
          "data": {
            "text/plain": [
              "AIMessage(content='', additional_kwargs={'function_call': {'name': 'currency_conversion_rate', 'arguments': '{\"target_currency\": \"INR\", \"base_currency\": \"USD\"}'}}, response_metadata={'prompt_feedback': {'block_reason': 0, 'safety_ratings': []}, 'finish_reason': 'STOP', 'safety_ratings': []}, id='run--b4b2040a-137f-4e40-acfd-be33161c73a8-0', tool_calls=[{'name': 'currency_conversion_rate', 'args': {'target_currency': 'INR', 'base_currency': 'USD'}, 'id': '965de0ac-34ab-456c-833d-30c87c214787', 'type': 'tool_call'}], usage_metadata={'input_tokens': 91, 'output_tokens': 13, 'total_tokens': 104, 'input_token_details': {'cache_read': 0}})"
            ]
          },
          "metadata": {},
          "execution_count": 63
        }
      ]
    },
    {
      "cell_type": "code",
      "source": [
        "ai_message.tool_calls"
      ],
      "metadata": {
        "id": "IQO5BV_QYHYf",
        "colab": {
          "base_uri": "https://localhost:8080/"
        },
        "outputId": "e59bcea2-8e2d-4686-dd8a-debe9dff12fd"
      },
      "execution_count": 64,
      "outputs": [
        {
          "output_type": "execute_result",
          "data": {
            "text/plain": [
              "[{'name': 'currency_conversion_rate',\n",
              "  'args': {'target_currency': 'INR', 'base_currency': 'USD'},\n",
              "  'id': '965de0ac-34ab-456c-833d-30c87c214787',\n",
              "  'type': 'tool_call'}]"
            ]
          },
          "metadata": {},
          "execution_count": 64
        }
      ]
    },
    {
      "cell_type": "code",
      "source": [
        "import json\n",
        "\n",
        "for tool_call in ai_message.tool_calls:\n",
        "  # execute the 1st tool and get the value of conversion rate\n",
        "  if tool_call['name'] == 'currency_conversion_rate':\n",
        "    tool_message1 = currency_conversion_rate.invoke(tool_call)\n",
        "    # fetch this conversion rate\n",
        "    conversion_rate = json.loads(tool_message1.content)['conversion_rate']\n",
        "    # append this tool message to messages list\n",
        "    messages.append(tool_message1)\n",
        "  # execute the 2nd tool using the conversion rate from tool 1\n",
        "  if tool_call['name'] == 'convert':\n",
        "    # fetch the current arg\n",
        "    tool_call['args']['conversion_rate'] = conversion_rate\n",
        "    tool_message2 = convert.invoke(tool_call)\n",
        "    messages.append(tool_message2)"
      ],
      "metadata": {
        "id": "YIkie3uAYodS"
      },
      "execution_count": 74,
      "outputs": []
    },
    {
      "cell_type": "code",
      "source": [
        "messages"
      ],
      "metadata": {
        "id": "TfhHDE5sbo74",
        "colab": {
          "base_uri": "https://localhost:8080/"
        },
        "outputId": "f6dad6ac-c850-4596-8771-d1adedbc5e74"
      },
      "execution_count": 75,
      "outputs": [
        {
          "output_type": "execute_result",
          "data": {
            "text/plain": [
              "[HumanMessage(content='What is the conversion rate between USD and INR, and based on that can you convert 10 USD to INR', additional_kwargs={}, response_metadata={}),\n",
              " AIMessage(content='', additional_kwargs={'function_call': {'name': 'currency_conversion_rate', 'arguments': '{\"target_currency\": \"INR\", \"base_currency\": \"USD\"}'}}, response_metadata={'prompt_feedback': {'block_reason': 0, 'safety_ratings': []}, 'finish_reason': 'STOP', 'safety_ratings': []}, id='run--b4b2040a-137f-4e40-acfd-be33161c73a8-0', tool_calls=[{'name': 'currency_conversion_rate', 'args': {'target_currency': 'INR', 'base_currency': 'USD'}, 'id': '965de0ac-34ab-456c-833d-30c87c214787', 'type': 'tool_call'}], usage_metadata={'input_tokens': 91, 'output_tokens': 13, 'total_tokens': 104, 'input_token_details': {'cache_read': 0}}),\n",
              " ToolMessage(content='{\"result\": \"success\", \"documentation\": \"https://www.exchangerate-api.com/docs\", \"terms_of_use\": \"https://www.exchangerate-api.com/terms\", \"time_last_update_unix\": 1756425601, \"time_last_update_utc\": \"Fri, 29 Aug 2025 00:00:01 +0000\", \"time_next_update_unix\": 1756512001, \"time_next_update_utc\": \"Sat, 30 Aug 2025 00:00:01 +0000\", \"base_code\": \"USD\", \"target_code\": \"INR\", \"conversion_rate\": 87.6276}', name='currency_conversion_rate', tool_call_id='965de0ac-34ab-456c-833d-30c87c214787'),\n",
              " ToolMessage(content='{\"result\": \"success\", \"documentation\": \"https://www.exchangerate-api.com/docs\", \"terms_of_use\": \"https://www.exchangerate-api.com/terms\", \"time_last_update_unix\": 1756425601, \"time_last_update_utc\": \"Fri, 29 Aug 2025 00:00:01 +0000\", \"time_next_update_unix\": 1756512001, \"time_next_update_utc\": \"Sat, 30 Aug 2025 00:00:01 +0000\", \"base_code\": \"USD\", \"target_code\": \"INR\", \"conversion_rate\": 87.6276}', name='currency_conversion_rate', tool_call_id='965de0ac-34ab-456c-833d-30c87c214787'),\n",
              " ToolMessage(content='{\"result\": \"success\", \"documentation\": \"https://www.exchangerate-api.com/docs\", \"terms_of_use\": \"https://www.exchangerate-api.com/terms\", \"time_last_update_unix\": 1756425601, \"time_last_update_utc\": \"Fri, 29 Aug 2025 00:00:01 +0000\", \"time_next_update_unix\": 1756512001, \"time_next_update_utc\": \"Sat, 30 Aug 2025 00:00:01 +0000\", \"base_code\": \"USD\", \"target_code\": \"INR\", \"conversion_rate\": 87.6276}', name='currency_conversion_rate', tool_call_id='965de0ac-34ab-456c-833d-30c87c214787'),\n",
              " ToolMessage(content='{\"result\": \"success\", \"documentation\": \"https://www.exchangerate-api.com/docs\", \"terms_of_use\": \"https://www.exchangerate-api.com/terms\", \"time_last_update_unix\": 1756425601, \"time_last_update_utc\": \"Fri, 29 Aug 2025 00:00:01 +0000\", \"time_next_update_unix\": 1756512001, \"time_next_update_utc\": \"Sat, 30 Aug 2025 00:00:01 +0000\", \"base_code\": \"USD\", \"target_code\": \"INR\", \"conversion_rate\": 87.6276}', name='currency_conversion_rate', tool_call_id='965de0ac-34ab-456c-833d-30c87c214787')]"
            ]
          },
          "metadata": {},
          "execution_count": 75
        }
      ]
    },
    {
      "cell_type": "code",
      "source": [
        "llm_with_tools.invoke(messages).content"
      ],
      "metadata": {
        "id": "6JO1AqEEbp3Y",
        "colab": {
          "base_uri": "https://localhost:8080/",
          "height": 35
        },
        "outputId": "8eeb5578-cea8-4f27-a7cb-3437a2e28944"
      },
      "execution_count": 76,
      "outputs": [
        {
          "output_type": "execute_result",
          "data": {
            "text/plain": [
              "'The conversion rate between USD and INR is 87.6276. I will now convert 10 USD to INR.'"
            ],
            "application/vnd.google.colaboratory.intrinsic+json": {
              "type": "string"
            }
          },
          "metadata": {},
          "execution_count": 76
        }
      ]
    },
    {
      "cell_type": "markdown",
      "source": [
        "**Using AgentExecutor**"
      ],
      "metadata": {
        "id": "KAZvZsmmCWRE"
      }
    },
    {
      "cell_type": "code",
      "source": [
        "from langchain.agents import initialize_agent, AgentType\n",
        "\n",
        "# Initialize the Agent\n",
        "agent_executor = initialize_agent(\n",
        "    tools=[currency_conversion_rate, convert],\n",
        "    llm=llm,\n",
        "    agent=AgentType.STRUCTURED_CHAT_ZERO_SHOT_REACT_DESCRIPTION,  # using ReAct pattern\n",
        "    verbose=True  # shows internal thinking\n",
        ")"
      ],
      "metadata": {
        "id": "GAMk6Sij2Mag"
      },
      "execution_count": 86,
      "outputs": []
    },
    {
      "cell_type": "code",
      "source": [
        "# --- Step 6: Run the Agent ---\n",
        "user_query = \"What is the conversion rate between USD and INR, and based on that can you convert 2950 USD to INR?\"\n",
        "\n",
        "response = agent_executor.invoke({\"input\": user_query})"
      ],
      "metadata": {
        "colab": {
          "base_uri": "https://localhost:8080/"
        },
        "id": "fj4kN_DBC1gn",
        "outputId": "7bfb2d45-c2e7-411b-eca4-a7140932fd76"
      },
      "execution_count": 87,
      "outputs": [
        {
          "output_type": "stream",
          "name": "stdout",
          "text": [
            "\n",
            "\n",
            "\u001b[1m> Entering new AgentExecutor chain...\u001b[0m\n",
            "\u001b[32;1m\u001b[1;3mAction:\n",
            "```\n",
            "{\n",
            "  \"action\": \"currency_conversion_rate\",\n",
            "  \"action_input\": {\n",
            "    \"base_currency\": \"USD\",\n",
            "    \"target_currency\": \"INR\"\n",
            "  }\n",
            "}\n",
            "```\u001b[0m\n",
            "Observation: \u001b[36;1m\u001b[1;3m{'result': 'success', 'documentation': 'https://www.exchangerate-api.com/docs', 'terms_of_use': 'https://www.exchangerate-api.com/terms', 'time_last_update_unix': 1756425601, 'time_last_update_utc': 'Fri, 29 Aug 2025 00:00:01 +0000', 'time_next_update_unix': 1756512001, 'time_next_update_utc': 'Sat, 30 Aug 2025 00:00:01 +0000', 'base_code': 'USD', 'target_code': 'INR', 'conversion_rate': 87.6276}\u001b[0m\n",
            "Thought:\u001b[32;1m\u001b[1;3mI have the conversion rate between USD and INR. Now I can convert 2950 USD to INR.\n",
            "Action:\n",
            "```\n",
            "{\n",
            "  \"action\": \"convert\",\n",
            "  \"action_input\": {\n",
            "    \"base_currency_value\": 2950,\n",
            "    \"conversion_rate\": 87.6276\n",
            "  }\n",
            "}\n",
            "```\u001b[0m\n",
            "Observation: \u001b[33;1m\u001b[1;3m258501.42\u001b[0m\n",
            "Thought:\u001b[32;1m\u001b[1;3mI have successfully converted 2950 USD to INR.\n",
            "Action:\n",
            "```\n",
            "{\n",
            "  \"action\": \"Final Answer\",\n",
            "  \"action_input\": \"The conversion rate between USD and INR is 87.6276. Based on this rate, 2950 USD is equivalent to 258501.42 INR.\"\n",
            "}\n",
            "```\u001b[0m\n",
            "\n",
            "\u001b[1m> Finished chain.\u001b[0m\n"
          ]
        }
      ]
    },
    {
      "cell_type": "code",
      "source": [
        "print(response['output'])"
      ],
      "metadata": {
        "colab": {
          "base_uri": "https://localhost:8080/"
        },
        "id": "LACzipsrDEqp",
        "outputId": "46f62161-24e1-40c7-8419-f4c93bb53b85"
      },
      "execution_count": 88,
      "outputs": [
        {
          "output_type": "stream",
          "name": "stdout",
          "text": [
            "The conversion rate between USD and INR is 87.6276. Based on this rate, 2950 USD is equivalent to 258501.42 INR.\n"
          ]
        }
      ]
    },
    {
      "cell_type": "code",
      "source": [],
      "metadata": {
        "id": "FpeCPwlKEbnM"
      },
      "execution_count": null,
      "outputs": []
    }
  ]
}